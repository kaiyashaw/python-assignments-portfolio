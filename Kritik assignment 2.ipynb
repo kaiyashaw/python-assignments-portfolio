{
 "cells": [
  {
   "cell_type": "code",
   "execution_count": 1,
   "id": "04d810f8-6035-4dbd-b169-22873629d8ad",
   "metadata": {},
   "outputs": [
    {
     "name": "stdout",
     "output_type": "stream",
     "text": [
      "funny(1)= 0\n",
      "funny(-1)= 0\n",
      "limit from the left of 1 is  1.0\n",
      "limit from the right of 1 is  0\n",
      "limit from the left of -1 is  0\n",
      "limit from the right of -1 is  1.0\n"
     ]
    }
   ],
   "source": [
    "#3 CODE FROM KRITIK\n",
    "import numpy as np\n",
    "def funny(x):\n",
    "    if x<=-1:\n",
    "        return 0\n",
    "    elif x>=1:\n",
    "        return 0\n",
    "    else:\n",
    "        return np.exp(1-(1/(1-x**(10**250))))\n",
    "        \n",
    "#check x= 1 and x= -1 \n",
    "print(\"funny(1)=\",funny(1))\n",
    "print(\"funny(-1)=\",funny(-1))\n",
    "\n",
    "\n",
    "#CHECK LIMIT USING A SMALL VALUE TO CHECK CLOSE TO EACH VALUE\n",
    "\n",
    "#check limit from both sides of 1\n",
    "print(\"limit from the left of 1 is \", funny(1-0.00001))\n",
    "print(\"limit from the right of 1 is \", funny(1+0.00001))\n",
    "\n",
    "#check limit from both sides of -1\n",
    "print(\"limit from the left of -1 is \", funny(-1-0.00001))\n",
    "print(\"limit from the right of -1 is \", funny (-1+0.00001))\n"
   ]
  },
  {
   "cell_type": "code",
   "execution_count": null,
   "id": "ac178beb-cc63-49e7-b0a8-b4fc5e06f8e7",
   "metadata": {},
   "outputs": [],
   "source": []
  },
  {
   "cell_type": "code",
   "execution_count": 15,
   "id": "61d5b9cf-e7a1-46b1-8f95-b1b830c8bdfa",
   "metadata": {},
   "outputs": [
    {
     "name": "stdout",
     "output_type": "stream",
     "text": [
      "0.26987413757344925\n",
      "1.0\n",
      "3.141592653589793\n",
      "f(a) and f(b) need to have have opposite signs\n"
     ]
    }
   ],
   "source": [
    "#QUESTION 4 \n",
    "\n",
    "import numpy as np\n",
    "def roots(f,a,b,iterations=100):\n",
    "    if f(a)*f(b)>=0:\n",
    "        return \"f(a) and f(b) need to have have opposite signs\"\n",
    "    for i in range (iterations): \n",
    "        midpoint = (a+b)/2\n",
    "        f_midpoint = f(midpoint)\n",
    "        \n",
    "        if f(a) * f(midpoint) < 0:\n",
    "                b = midpoint\n",
    "        if f(b) * f(midpoint) < 0:\n",
    "                a = midpoint\n",
    "    else:\n",
    "        return (a+b)/2\n",
    "        \n",
    "def func1(x):\n",
    "    logx=np.log(x)\n",
    "    if logx==0:\n",
    "        return np.inf\n",
    "    return (np.exp(x))+np.log(x)\n",
    "def func2(x):\n",
    "    logx=np.log(x)\n",
    "    if logx==0:\n",
    "        return np.inf\n",
    "    return (np.arctan(x))/(np.log(x))\n",
    "def func3(x): \n",
    "    logx=np.log(x)\n",
    "    if logx==0:\n",
    "        return np.inf\n",
    "    return (np.sin(x))/(np.log(x))\n",
    "def func4(x): \n",
    "    cosx=np.cos(x)\n",
    "    if cosx<=0:\n",
    "        return np.inf\n",
    "    return np.log(np.cos(x))\n",
    "\n",
    "print (roots(func1, 0.1, 1))\n",
    "print (roots(func2,0.1, 2))\n",
    "print (roots(func3,3,4))\n",
    "print (roots(func4,5,7))"
   ]
  },
  {
   "cell_type": "code",
   "execution_count": null,
   "id": "5334b61c-9b9d-4389-b98c-361c5b0a3de0",
   "metadata": {},
   "outputs": [],
   "source": []
  }
 ],
 "metadata": {
  "kernelspec": {
   "display_name": "Python 3 (ipykernel)",
   "language": "python",
   "name": "python3"
  },
  "language_info": {
   "codemirror_mode": {
    "name": "ipython",
    "version": 3
   },
   "file_extension": ".py",
   "mimetype": "text/x-python",
   "name": "python",
   "nbconvert_exporter": "python",
   "pygments_lexer": "ipython3",
   "version": "3.11.9"
  }
 },
 "nbformat": 4,
 "nbformat_minor": 5
}
