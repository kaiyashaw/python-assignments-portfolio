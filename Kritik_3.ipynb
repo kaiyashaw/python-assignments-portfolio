{
 "cells": [
  {
   "cell_type": "code",
   "execution_count": 64,
   "id": "c8c7f03c-7703-45fe-aa0c-483e44da0c81",
   "metadata": {},
   "outputs": [
    {
     "name": "stdout",
     "output_type": "stream",
     "text": [
      "Function: f1\n",
      "  Derivative at c = 2.0000000000575113\n",
      "  x1: 0.9999999\n",
      "  x2: 1.0000001\n",
      "Function: f2\n",
      "  Derivative at c = 0.7071067803510189\n",
      "  x1: 0.7853980633974483\n",
      "  x2: 0.7853982633974482\n",
      "Function: f3\n",
      "  Derivative at c = 0.9999999994736442\n",
      "  x1: -1e-07\n",
      "  x2: 1e-07\n"
     ]
    }
   ],
   "source": [
    "import numpy as np \n",
    "\n",
    "def f1(x ,c = 1, E = 0.1):\n",
    "    return x**2\n",
    "\n",
    "def f2(x, c = np.pi/4, E = 0.05): \n",
    "    return np.sin(x)\n",
    "\n",
    "def f3(x, c = 0, E = 0.01):\n",
    "    return np.exp(x)\n",
    "\n",
    "\n",
    "def CDD(f,c,dx = 10e-8):\n",
    "    return (f(c + dx) - f(c - dx))/(2*dx)\n",
    "\n",
    "def L(f, c, x, f_prime):\n",
    "    return (f(c) + f_prime * (x-c))\n",
    "\n",
    "def find_x1(f,c,L,E,dx = 10e-8):\n",
    "    x1 = c - dx \n",
    "    while abs(f(x1) - L(f,c,x1,CDD(f,x1,dx=10e-8)))> E:\n",
    "        x1 -= dx\n",
    "    return x1 \n",
    "            \n",
    "def find_x2(f,c,L,E,dx=10e-8): \n",
    "    x2 = c + dx \n",
    "    while abs(f(x2) - L(f,c,x2,CDD(f,x2,dx=10e-8)))> E:\n",
    "        x2 +=dx\n",
    "    return x2\n",
    "\n",
    "functions  = [{\"f\": f1, \"c\": 1, \"E\": 0.1},{\"f\": f2, \"c\": np.pi/4, \"E\": 0.05},{\"f\": f3, \"c\": 0 , \"E\": 0.01}]\n",
    "\n",
    "for i in functions:\n",
    "    f = i[\"f\"]\n",
    "    c = i[\"c\"]\n",
    "    E = i[\"E\"]\n",
    "    f_prime = CDD(f,c,dx=10e-8)\n",
    "    x1 = find_x1 (f,c,L,E,dx=10e-8)\n",
    "    x2 = find_x2 (f,c,L,E,dx=10e-8)\n",
    "\n",
    "    print(f\"Function: {f.__name__}\")\n",
    "    print(f\"  Derivative at c = {f_prime}\")\n",
    "    print(f\"  x1: {x1}\")\n",
    "    print(f\"  x2: {x2}\")"
   ]
  },
  {
   "cell_type": "code",
   "execution_count": null,
   "id": "aea0feda-45ba-4244-8034-f216b08b7072",
   "metadata": {},
   "outputs": [],
   "source": []
  }
 ],
 "metadata": {
  "kernelspec": {
   "display_name": "Python 3 (ipykernel)",
   "language": "python",
   "name": "python3"
  },
  "language_info": {
   "codemirror_mode": {
    "name": "ipython",
    "version": 3
   },
   "file_extension": ".py",
   "mimetype": "text/x-python",
   "name": "python",
   "nbconvert_exporter": "python",
   "pygments_lexer": "ipython3",
   "version": "3.11.9"
  }
 },
 "nbformat": 4,
 "nbformat_minor": 5
}
