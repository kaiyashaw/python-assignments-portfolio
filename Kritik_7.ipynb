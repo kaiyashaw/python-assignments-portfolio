{
 "cells": [
  {
   "cell_type": "code",
   "execution_count": 6,
   "id": "4e02b523-14b1-41a4-b514-1a8fdfb1e815",
   "metadata": {},
   "outputs": [
    {
     "name": "stderr",
     "output_type": "stream",
     "text": [
      "/tmp/ipykernel_662/347790473.py:56: RuntimeWarning: invalid value encountered in sqrt\n",
      "  sdv = np.sqrt(var)\n"
     ]
    },
    {
     "ename": "NameError",
     "evalue": "name 'prob' is not defined",
     "output_type": "error",
     "traceback": [
      "\u001b[0;31m---------------------------------------------------------------------------\u001b[0m",
      "\u001b[0;31mNameError\u001b[0m                                 Traceback (most recent call last)",
      "Cell \u001b[0;32mIn[6], line 60\u001b[0m\n\u001b[1;32m     57\u001b[0m mu_0 \u001b[38;5;241m=\u001b[39m \u001b[38;5;241m75\u001b[39m\n\u001b[1;32m     59\u001b[0m t_0 \u001b[38;5;241m=\u001b[39m initial_t(mean, sdv, data, mu_0, n)\n\u001b[0;32m---> 60\u001b[0m t_star \u001b[38;5;241m=\u001b[39m find_t_star(\u001b[43mprob\u001b[49m, nu, x_start \u001b[38;5;241m=\u001b[39m \u001b[38;5;241m0\u001b[39m, x_end \u001b[38;5;241m=\u001b[39m \u001b[38;5;241m20\u001b[39m, num_points \u001b[38;5;241m=\u001b[39m \u001b[38;5;241m10000\u001b[39m)\n\u001b[1;32m     61\u001b[0m answer \u001b[38;5;241m=\u001b[39m t_test_answer(t_star,t_0)\n",
      "\u001b[0;31mNameError\u001b[0m: name 'prob' is not defined"
     ]
    }
   ],
   "source": [
    "import numpy as np \n",
    "import matplotlib.pyplot as plt\n",
    "from scipy.special import gamma \n",
    "\n",
    "#data points given\n",
    "data = [92.64,79.00,84.79,97.41,93.68,65.23,84.50,73.49,73.97,79.11]\n",
    "\n",
    "#density function\n",
    "def t_distribution_pdf(x, nu):\n",
    "    coeff = gamma((nu + 1) / 2) / (np.sqrt(nu * np.pi) * gamma(nu / 2))\n",
    "    density = coeff * (1 + x**2 / nu) ** (-0.5 * (nu + 1))\n",
    "    return density\n",
    "\n",
    "#step one: find the mean and standard deviation\n",
    "def compute(data):\n",
    "    n = len(data) \n",
    "    mean = sum(data)/n\n",
    "    var = sum((x - mean) for x in data)/(n-1)\n",
    "    sdv = np.sqrt(var)\n",
    "    return mean, sdv\n",
    "\n",
    "#step two: find the value of t_0\n",
    "def initial_t(mean, sdv, data, mu_0, n):\n",
    "    mu_0 = 75 \n",
    "    t_0 = (mean - mu_0)/((sdv)/np.sqrt(n))\n",
    "    return t_0\n",
    "    \n",
    "#step three: find the value of t_star\n",
    "def find_t_star(prob, nu, x_start=0, x_end=20, num_points=10000):\n",
    "    \n",
    "    # Define the x values\n",
    "    x = np.linspace(x_start, x_end, num_points)\n",
    "    \n",
    "    # Apply the density function to the x values\n",
    "    y = t_distribution_pdf(x, nu)\n",
    "    \n",
    "    # This next line is the integration (exercise: why does this work?)\n",
    "    cdf = np.cumsum(y) * (x[1] - x[0])\n",
    "    \n",
    "    # Find the t-value where the cumulative probability reaches half of the required probability\n",
    "    target_half_prob = prob / 2\n",
    "    index = np.where(cdf >= target_half_prob)[0][0]\n",
    "    return x[index]\n",
    "\n",
    "#step four: define a function to return true or false \n",
    "def t_test_answer (t_star, t_0):\n",
    "    if (t_star * (-1)) <= t_0 <= t_star:\n",
    "        return True \n",
    "    else:\n",
    "        return False \n",
    "\n",
    "#step five: apply code to given data \n",
    "n = len(data) \n",
    "mean = sum(data)/n\n",
    "var = sum((x - mean) for x in data)/(n-1)\n",
    "sdv = np.sqrt(var)\n",
    "mu_0 = 75\n",
    "\n",
    "t_0 = initial_t(mean, sdv, data, mu_0, n)\n",
    "t_star = find_t_star(prob, nu, x_start = 0, x_end = 20, num_points = 10000)\n",
    "answer = t_test_answer(t_star,t_0)"
   ]
  },
  {
   "cell_type": "code",
   "execution_count": null,
   "id": "e9ea8154-846a-4df6-b7ed-f1e95f3ed171",
   "metadata": {},
   "outputs": [],
   "source": []
  }
 ],
 "metadata": {
  "kernelspec": {
   "display_name": "Python 3 (ipykernel)",
   "language": "python",
   "name": "python3"
  },
  "language_info": {
   "codemirror_mode": {
    "name": "ipython",
    "version": 3
   },
   "file_extension": ".py",
   "mimetype": "text/x-python",
   "name": "python",
   "nbconvert_exporter": "python",
   "pygments_lexer": "ipython3",
   "version": "3.12.8"
  }
 },
 "nbformat": 4,
 "nbformat_minor": 5
}
